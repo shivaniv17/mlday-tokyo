{
  "nbformat": 4,
  "nbformat_minor": 0,
  "metadata": {
    "colab": {
      "provenance": [],
      "authorship_tag": "ABX9TyNLY2VIdFUUBFYYuvEnPucR",
      "include_colab_link": true
    },
    "kernelspec": {
      "name": "python3",
      "display_name": "Python 3"
    },
    "language_info": {
      "name": "python"
    }
  },
  "cells": [
    {
      "cell_type": "markdown",
      "metadata": {
        "id": "view-in-github",
        "colab_type": "text"
      },
      "source": [
        "<a href=\"https://colab.research.google.com/github/shivaniv17/mlday-tokyo/blob/master/mypractice.ipynb\" target=\"_parent\"><img src=\"https://colab.research.google.com/assets/colab-badge.svg\" alt=\"Open In Colab\"/></a>"
      ]
    },
    {
      "cell_type": "code",
      "execution_count": null,
      "metadata": {
        "id": "y4F_YVs2iVUw"
      },
      "outputs": [],
      "source": [
        "#Lab-1=The Hello World of Deep Learning with Neural Networks\n",
        "import tensorflow as tf\n",
        "import numpy as np\n",
        "from tensorflow import keras\n",
        "\n",
        "model=tf.keras.Sequential([keras.layers.Dense(units=1,input_shape=[1])]) #define model\n",
        "model.compile(optimizer=\"sgd\",loss=\"mean_squared_error\") #compile \n",
        "xs=np.array([1,2,3,4,5],dtype=int)  #data\n",
        "ys=np.array([2,4,6,8,10],dtype=int) #data\n",
        "model.fit(xs, ys, epochs=500) #train the data\n",
        "print(model.predict([10])) #prediction"
      ]
    },
    {
      "cell_type": "code",
      "source": [
        "import tensorflow as tf\n",
        "import matplotlib.pyplot as plt\n",
        "from tensorflow import keras\n",
        "\n",
        "mnist=tf.keras.datasets.fashion_mnist\n",
        "(training_images,training_lable) , (test_images,test_labels)=mnist.load_data()\n",
        "\n",
        "# plt.imshow(training_images[9])\n",
        "# print(training_images[9])\n",
        "# print(training_lable[9])\n",
        "\n",
        "# training_images=training_images/255 (numbers in the response are btw 0-255)\n",
        "# test_images=test_images/255\n",
        "\n",
        "model=tf.keras.models.Sequential([keras.layers.Flatten(),\n",
        "                     keras.layers.Dense(128,activation=tf.nn.relu),\n",
        "                     keras.layers.Dense(10,activation=tf.nn.softmax)])\n",
        "model.compile(optimizer=tf.keras.optimizers.Adam(),loss='sparse_categorical_crossentropy',metrics=['accuracy'])\n",
        "model.fit(training_images,training_lable, epochs=5)\n",
        "model.evaluate(test_images,test_labels)\n",
        "classification=model.predict(test_images)\n",
        "print(classification[0])\n",
        "print(test_labels[0])\n",
        "\n",
        "\n"
      ],
      "metadata": {
        "colab": {
          "base_uri": "https://localhost:8080/"
        },
        "id": "a1OAqj6Qmm8z",
        "outputId": "58169e3c-80fe-41b7-ecd0-01757577306d"
      },
      "execution_count": 2,
      "outputs": [
        {
          "output_type": "stream",
          "name": "stdout",
          "text": [
            "Epoch 1/5\n",
            "1875/1875 [==============================] - 9s 4ms/step - loss: 4.0285 - accuracy: 0.7276\n",
            "Epoch 2/5\n",
            "1875/1875 [==============================] - 9s 5ms/step - loss: 0.6324 - accuracy: 0.7818\n",
            "Epoch 3/5\n",
            "1875/1875 [==============================] - 8s 4ms/step - loss: 0.5641 - accuracy: 0.8001\n",
            "Epoch 4/5\n",
            "1875/1875 [==============================] - 8s 4ms/step - loss: 0.5486 - accuracy: 0.8093\n",
            "Epoch 5/5\n",
            "1875/1875 [==============================] - 8s 4ms/step - loss: 0.5318 - accuracy: 0.8192\n",
            "313/313 [==============================] - 1s 2ms/step - loss: 0.5767 - accuracy: 0.8064\n",
            "313/313 [==============================] - 1s 2ms/step\n",
            "[1.0004308e-24 6.6509776e-31 1.6612778e-24 3.4576416e-13 3.1010074e-20\n",
            " 1.2107519e-02 4.6104668e-21 6.2188834e-02 4.7672708e-07 9.2570335e-01]\n",
            "9\n"
          ]
        }
      ]
    },
    {
      "cell_type": "code",
      "source": [],
      "metadata": {
        "id": "gwMQ_dY4ywY6"
      },
      "execution_count": null,
      "outputs": []
    }
  ]
}